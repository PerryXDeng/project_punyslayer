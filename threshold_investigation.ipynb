{
 "cells": [
  {
   "cell_type": "code",
   "execution_count": 20,
   "metadata": {},
   "outputs": [],
   "source": [
    "import numpy as np\n",
    "\n",
    "from unicode_info.database import generate_data_for_experiment, generate_positive_pairs_consortium, generate_negative_pairs_consortium\n",
    "\n",
    "def generate_similarities():\n",
    "    num_pairs = 1000\n",
    "    supported_consortium_feature_vectors, supported_consortium_clusters_dict = generate_data_for_experiment()\n",
    "    positive_pairs = generate_positive_pairs_consortium(supported_consortium_clusters_dict, num_pairs)\n",
    "    negative_pairs = generate_negative_pairs_consortium(supported_consortium_clusters_dict, num_pairs)\n",
    "    cos_sim = lambda features_x, features_y: np.dot(features_x, features_y) / (np.linalg.norm(features_x) * np.linalg.norm(features_y))\n",
    "    calc_sim = lambda pair: cos_sim(supported_consortium_feature_vectors[pair[0]], supported_consortium_feature_vectors[pair[1]])\n",
    "    pos_sim = np.array(list(map(calc_sim, positive_pairs)))\n",
    "    neg_sim = np.array(list(map(calc_sim, negative_pairs)))\n",
    "    return pos_sim, neg_sim\n",
    "\n",
    "def calculate_recall(pos_sim, threshold):\n",
    "    return np.count_nonzero(pos_sim > threshold) / len(pos_sim)\n",
    "\n",
    "def calculate_fpr(neg_sim, threshold):\n",
    "    return np.count_nonzero(neg_sim > threshold) / len(neg_sim)"
   ]
  },
  {
   "cell_type": "code",
   "execution_count": 8,
   "metadata": {},
   "outputs": [],
   "source": [
    "pos_sim, neg_sim = generate_similarities()"
   ]
  },
  {
   "cell_type": "code",
   "execution_count": 26,
   "metadata": {},
   "outputs": [
    {
     "name": "stdout",
     "output_type": "stream",
     "text": [
      "0.239\n",
      "0.0\n"
     ]
    }
   ],
   "source": [
    "thres = 0.9\n",
    "print(calculate_recall(pos_sim, thres))\n",
    "print(calculate_fpr(neg_sim, thres))"
   ]
  },
  {
   "cell_type": "code",
   "execution_count": 28,
   "metadata": {},
   "outputs": [
    {
     "name": "stdout",
     "output_type": "stream",
     "text": [
      "0.39\n",
      "0.001\n"
     ]
    }
   ],
   "source": [
    "thres = 0.85\n",
    "print(calculate_recall(pos_sim, thres))\n",
    "print(calculate_fpr(neg_sim, thres))"
   ]
  },
  {
   "cell_type": "code",
   "execution_count": 29,
   "metadata": {},
   "outputs": [
    {
     "name": "stdout",
     "output_type": "stream",
     "text": [
      "0.521\n",
      "0.003\n"
     ]
    }
   ],
   "source": [
    "thres = 0.80\n",
    "print(calculate_recall(pos_sim, thres))\n",
    "print(calculate_fpr(neg_sim, thres))"
   ]
  }
 ],
 "metadata": {
  "kernelspec": {
   "display_name": "Python 3",
   "language": "python",
   "name": "python3"
  },
  "language_info": {
   "codemirror_mode": {
    "name": "ipython",
    "version": 3
   },
   "file_extension": ".py",
   "mimetype": "text/x-python",
   "name": "python",
   "nbconvert_exporter": "python",
   "pygments_lexer": "ipython3",
   "version": "3.6.9"
  }
 },
 "nbformat": 4,
 "nbformat_minor": 2
}
