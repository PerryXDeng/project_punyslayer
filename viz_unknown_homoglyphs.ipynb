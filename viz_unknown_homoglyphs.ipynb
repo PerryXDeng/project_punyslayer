{
 "cells": [
  {
   "cell_type": "code",
   "execution_count": 19,
   "metadata": {},
   "outputs": [],
   "source": [
    "import pickle\n",
    "import random\n",
    "import numpy as np\n",
    "import cupy as cp\n",
    "from unicode_info.database import generate_supported_consortium_feature_vectors_and_clusters_dict"
   ]
  },
  {
   "cell_type": "code",
   "execution_count": 15,
   "metadata": {},
   "outputs": [],
   "source": [
    "unicode_codepoint_vectors_dict = pickle.load(open('features_dict_file.pkl', 'rb'))\n",
    "unicode_index_codepoint_map = list(unicode_codepoint_vectors_dict.keys())\n",
    "del unicode_codepoint_vectors_dict\n",
    "\n",
    "unknown_codepoints_simvec_map = pickle.load(open('simmap_pointninethreshold.pkl', 'rb'))\n",
    "mat = np.stack([vec for vec in unknown_codepoints_simvec_map.values()])\n",
    "unknown_indices_to_codepoint = [codepoint for codepoint in unknown_codepoints_simvec_map.keys()]"
   ]
  },
  {
   "cell_type": "code",
   "execution_count": 62,
   "metadata": {},
   "outputs": [],
   "source": [
    "# directly finding homoglyph codepoint sets will blow up memory\n",
    "def filter_simvec_map_into_row_indices(sim_mat:np.ndarray, threshold:float):\n",
    "    return set(cp.asnumpy(cp.nonzero(cp.count_nonzero(cp.array(sim_mat) > threshold, axis=1) - 1)[0]))\n",
    "\n",
    "# these aren't equivalence classes - might be overlapping sets\n",
    "def randomly_select_indices_and_find_homoglyphs_sets(sim_mat:np.ndarray, simmat_row_indices:set, threshold:float, num_sets:int, full_index_codepoint_map:list):\n",
    "    pairs_for_index = {}\n",
    "    sample = random.sample(simmat_row_indices, k=num_sets)\n",
    "    print(sample)\n",
    "    for row_index in sample:\n",
    "        homoglyph_indices = np.nonzero(sim_mat[row_index] > threshold)[0]\n",
    "        if len(homoglyph_indices) > 0:\n",
    "            pairs_for_index[row_index] = {full_index_codepoint_map[index] for index in homoglyph_indices}\n",
    "    return pairs_for_index"
   ]
  },
  {
   "cell_type": "code",
   "execution_count": 69,
   "metadata": {},
   "outputs": [
    {
     "name": "stdout",
     "output_type": "stream",
     "text": [
      "11775\n",
      "[4147, 18301, 17177, 12271, 1941]\n",
      "5\n",
      "2\n",
      "3\n",
      "2\n",
      "4\n",
      "2\n"
     ]
    }
   ],
   "source": [
    "thres = 0.92\n",
    "indices = filter_simvec_map_into_row_indices(mat, thres)\n",
    "print(len(indices))\n",
    "pairs_for_index = randomly_select_indices_and_find_homoglyphs_sets(mat, indices, thres, 5, unicode_index_codepoint_map)\n",
    "print(len(pairs_for_index))\n",
    "for s in pairs_for_index.values():\n",
    "    print(len(s))"
   ]
  },
  {
   "cell_type": "code",
   "execution_count": 68,
   "metadata": {},
   "outputs": [
    {
     "name": "stdout",
     "output_type": "stream",
     "text": [
      "('8850', array([ 0.4917  ,  0.07587 ,  0.575   , ..., -0.10236 , -0.010994,\n",
      "        0.3809  ], dtype=float16))\n",
      "['8849', '8850']\n"
     ]
    }
   ],
   "source": [
    "# debugging purpose\n",
    "i = 18816\n",
    "print(list(unknown_codepoints_simvec_map.items())[i])\n",
    "print([unicode_index_codepoint_map[ind] for ind in np.nonzero(mat[i] > 0.92)[0]])"
   ]
  }
 ],
 "metadata": {
  "kernelspec": {
   "display_name": "Python 3",
   "language": "python",
   "name": "python3"
  },
  "language_info": {
   "codemirror_mode": {
    "name": "ipython",
    "version": 3
   },
   "file_extension": ".py",
   "mimetype": "text/x-python",
   "name": "python",
   "nbconvert_exporter": "python",
   "pygments_lexer": "ipython3",
   "version": "3.6.9"
  }
 },
 "nbformat": 4,
 "nbformat_minor": 2
}
